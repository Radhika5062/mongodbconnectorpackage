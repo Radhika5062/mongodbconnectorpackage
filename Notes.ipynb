{
 "cells": [
  {
   "cell_type": "code",
   "execution_count": 1,
   "metadata": {},
   "outputs": [],
   "source": [
    "# We will first create template.py file"
   ]
  },
  {
   "cell_type": "code",
   "execution_count": 2,
   "metadata": {},
   "outputs": [],
   "source": [
    "# Problem statement : \n",
    "# We are trying to build a unified package to connect to different databases like mongodb, cassandra and mysql. Reason being\n",
    "# when we need to connect to any of these databases in our projects then we need to write the full code for connecting,\n",
    "# add or retrieving data. This is usually created as its own separate module in our project. But what we are trying to\n",
    "# do is, creating our own package that will be released over pypi which defines all the operations that are needed to \n",
    "# connect, add and retrieve data from these by importing them in our package and that too in a single line. \n",
    "# Task: we are going to push our code to github and then release the code on pypi."
   ]
  },
  {
   "cell_type": "code",
   "execution_count": 3,
   "metadata": {},
   "outputs": [],
   "source": [
    "# Fill the requirements.txt file and requirements_dev.txt\n",
    "# Next we will write setup.py file.\n",
    "# Next we will create setup.cfg file. "
   ]
  },
  {
   "cell_type": "code",
   "execution_count": null,
   "metadata": {},
   "outputs": [],
   "source": []
  }
 ],
 "metadata": {
  "kernelspec": {
   "display_name": "MLOPS",
   "language": "python",
   "name": "python3"
  },
  "language_info": {
   "codemirror_mode": {
    "name": "ipython",
    "version": 3
   },
   "file_extension": ".py",
   "mimetype": "text/x-python",
   "name": "python",
   "nbconvert_exporter": "python",
   "pygments_lexer": "ipython3",
   "version": "3.12.4"
  }
 },
 "nbformat": 4,
 "nbformat_minor": 2
}
